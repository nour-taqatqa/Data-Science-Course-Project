{
  "cells": [
    {
      "cell_type": "markdown",
      "id": "0116f49b",
      "metadata": {
        "id": "0116f49b"
      },
      "source": [
        "## Background / Motivation\n",
        "\n",
        "Air travel has become the new “casual” way of transportation, globally and more so in the US, because of its massive geographic landscape. With that comes the question of whether flight operations have gotten more advanced or not with time. One of the biggest holdbacks to flight operations are delays, which can happen for many different reasons such as weather. With large global effects such as COVID-19 and climate change increasing flight delays, improving flight operations is more important now than ever. A question that then comes to mind is whether flight operations can be improved by studying these delays and observing commonalities in their causes. By analyzing flight data and weather data for flight delays, we can observe which variables have the most importance in delays. This will allow us to not only help improve the air commute and the airline industry, but also to draw conclusions on what weather patterns, flight demographics, and airlines might lead to more successful flights."
      ]
    },
    {
      "cell_type": "markdown",
      "id": "84ff1421",
      "metadata": {
        "id": "84ff1421"
      },
      "source": [
        "## Problem statement\n",
        "\n",
        "***Describe your four questions. Articulate your questions using absolutely no jargon.***\n",
        "\n",
        "\n",
        "EDA Question 1 (Andre's): Do Airports have different number of delayed flights?\n",
        "- This question is to determine if Airports have a difference in their average probability of delayed flight and their average monthly flights. This will allow the stakeholders to determine which airports suit their needs the best.\n",
        "\n",
        "EDA Question 2 (Patrick's): Which airlines have the most delays and what are their commonalities?\n",
        " - This question allows the stakeholders to understand their airline’s position in the market, analyze what are common trends for delays across all airlines, and understand where their specific airline sits in the market\n",
        "\n",
        "EDA Question 3 (Corbin's): Does the number of seats, or the \"plane size\", impact how likely a plane is going to be delayed?\n",
        "  - The idea is that larger planes may take longer to board, and variability in how long it takes people to stow bags and take their seats could increase the likelyhood of a delay. This question allows the stakeholders to see what kind of impact plane size can have on delays and whether there is a more optimal seat number to use."
      ]
    },
    {
      "cell_type": "markdown",
      "source": [
        "EDA Question 4 (Nour's): Could bad weather be an indicator for whether there will be a delay or not?\n",
        "- It's important to know whether airlines can avoid many of the delays they maight be oncurring. The weather is considered an external factor yet it needs to be shown that the delays are actually due to the weather.\n"
      ],
      "metadata": {
        "id": "FunA3nf5bJqS"
      },
      "id": "FunA3nf5bJqS"
    },
    {
      "cell_type": "markdown",
      "id": "38c7b95f",
      "metadata": {
        "id": "38c7b95f"
      },
      "source": [
        "## Data sources\n",
        "***What data did you use? Provide details about your data. Include links to data if you are using open-access data.***\n",
        "\n",
        "We used a dataset of monthly Airline Delays with weather reports from 2019. The dataset is specific to the United States. The data contains 26 variables, 9 continuous and 17 categorical, along with 6489062 observations.\n",
        "\n",
        "Link to data: https://www.kaggle.com/datasets/threnjen/2019-airline-delays-and-cancellations\n",
        "\n",
        "Continuous Variables (9):\n",
        "\n",
        "MONTH\n",
        "\n",
        "DAY_OF_WEEK\n",
        "\n",
        "DEP_DEL15 (either 1 for if delay is greater than 15 minutes and 0 if not)\n",
        "\n",
        "DEP_TIME_BLK (Departure Block)\n",
        "\n",
        "DISTANCE_GROUP (Distance group to be flown by departing aircraft)\n",
        "\n",
        "SEGMENT_NUMBER (The segment that this tail number is on for the day)\n",
        "\n",
        "CARRIER_NAME\n",
        "\n",
        "DEPARTING_AIRPORT\n",
        "\n",
        "PREVIOUS_AIRPORT (Previous airport that aircraft departed from)\n",
        "\n",
        "Categorical Variables (17):\n",
        "\n",
        "CONCURRENT_FLIGHTS (Number of concurrent flights leaving from the airport in the same departure block)\n",
        "\n",
        "NUMBER_OF_SEATS\n",
        "\n",
        "AIRPORT_FLIGHTS_MONTH (Avg Airport Flights per Month)\n",
        "\n",
        "AIRLINE_FLIGHTS_MONTH (Avg Airline Flights per Month)\n",
        "\n",
        "AIRLINE_AIRPORT_FLIGHTS_MONTH (Avg Flights per month for Airline AND Airport)\n",
        "\n",
        "AVG_MONTHLY_PASS_AIRPORT (Avg Passengers for the departing airport for the month)\n",
        "\n",
        "AVG_MONTHLY_PASS_AIRLINE (Avg Passengers for airline for month)\n",
        "\n",
        "FLT_ATTENDANTS_PER_PASS (Flight attendants per passenger for airline)\n",
        "\n",
        "GROUND_SERV_PER_PASS (Ground service employees (service desk) per passenger for airline)\n",
        "\n",
        "PLANE_AGE\n",
        "\n",
        "LATITUDE\n",
        "\n",
        "LONGITUDE\n",
        "\n",
        "PRCP (Inches of percipitation for day)\n",
        "\n",
        "SNOW (Inches of snowfall for day)\n",
        "\n",
        "SNWD (Inches of snow on ground for day)\n",
        "\n",
        "TMAX (Max temperature for day)\n",
        "\n",
        "AWND (Max wind speed for day)\n",
        "\n",
        "Our main variable of interest was DEP_DEL_15. This variable is a categorical (boolean) variable of whether or not a flight was delayed by over 15 minutes or not. As we were tracking delays, particularly severe delays, this is our primary variable to draw correlations and relationships"
      ]
    },
    {
      "cell_type": "markdown",
      "id": "8c255035",
      "metadata": {
        "id": "8c255035"
      },
      "source": [
        "## Stakeholders\n",
        "Who cares? If you are successful, what difference will it make to them?"
      ]
    },
    {
      "cell_type": "markdown",
      "source": [
        "The main stakeholders for this project are the airlines. Delays are one of the most significant impacts on an Airline business. Airlines can garner bad reputations from frequent delays, especially if several other airlines have less delayed flights then them. This will hurt future business for these airlines, directly effecting revenues. Furthermore, delayed flights directly affect airlines' cost as they need to accommodate the passengers for severe delays and cancelations, and work around other scheduling challenges created by delays and cancelations.\n",
        "\n",
        "This project could benefit airlines by giving them more information about the causes of delays and commonalities between delays throughout a year. Airlines could use the information about their delays to determine how to best improve on their delay performace. This will directly lead to increasing their repution and thus their revenue, while simplifying their operations thus reducing cost, which will lead to an overall increase in Airline profit."
      ],
      "metadata": {
        "id": "KUApgmCm87k4"
      },
      "id": "KUApgmCm87k4"
    },
    {
      "cell_type": "markdown",
      "id": "fe7ea9bb",
      "metadata": {
        "id": "fe7ea9bb"
      },
      "source": [
        "## Data quality check / cleaning / preparation\n",
        "\n",
        "In a tabular form, show the distribution of values of each variable used in the analysis - for both categorical and continuous variables. Distribution of a categorical variable must include the number of missing values, the number of unique values, the frequency of all its levels. If a categorical variable has too many levels, you may just include the counts of the top 3-5 levels.\n",
        "\n",
        "Were there any potentially incorrect values of variables that required cleaning? If yes, how did you clean them?\n",
        "\n",
        "Did your analysis require any other kind of data preparation before it was ready to use?"
      ]
    },
    {
      "cell_type": "markdown",
      "id": "d39c782c",
      "metadata": {
        "id": "d39c782c"
      },
      "source": [
        "## Exploratory Data Analysis\n",
        "\n",
        "For each analysis:\n",
        "\n",
        "What did you do exactly? How did you solve the problem? Why did you think it would be successful?\n",
        "\n",
        "What problems did you anticipate? What problems did you encounter? Did the very first thing you tried work?\n",
        "\n",
        "Mention any code repositories (with citations) or other sources that you used, and specifically what changes you made to them for your project.\n",
        "\n",
        "Note that you can write code to publish the results of the code, but hide the code using the yaml setting `#|echo: false`. For example, the code below makes a plot, but the code itself is not published with Quarto in the report."
      ]
    },
    {
      "cell_type": "markdown",
      "source": [
        "### Analysis 1\n",
        "*By Andre Salgado*"
      ],
      "metadata": {
        "id": "1COY3I6mzd8o"
      },
      "id": "1COY3I6mzd8o"
    },
    {
      "cell_type": "markdown",
      "source": [
        "My question was focused on airports. Therefore, I had to create a dataset that comprised of all the unique airports. I found the average probability of delay by finding the mean of the DEP_DEL_15 variable by grouping by the DEPARTING_AIRPORT variable. This method gives me the average probability of delay because the data is binary, therefore, the sum is the number of delayed flights, then it is divided by the total number of observations. I chose to find the probability of delay regardless of date to make my reccomendations more general. Next, I found the average monthly flights by the same method, finding the mean of MONTHLY_FLIGHTS when grouped by DEPARTING_AIRPORT. Once I have the average probability of delay and average monthly flights I can find the product to determine the average monthly delayed flights by airport.\n",
        "\n",
        "Grouping into regions\n",
        "\n",
        "Further analysis I conducted was by grouping all the airports into regions. I did this by finding the eucladian distance of each airport with all other airports and creating a threshold for the maximum distance. This created clusters of airports that are all close to each other. By grouping into regions I could find the worst and best performing regions, determined by probability of delay and average monthly flights.\n",
        "\n",
        "Strategy for Stakeholders\n",
        "\n",
        "I then wanted to create an executable strategy for the stakeholder to implement. I wanted the strategy to rely solely on airport selection. I noticed that there were airports that were very close to one another and I questioned if it might be favorable for stakeholders to choose one airport over another. I found the closest neighboring airport for each airport by measuring the eucladian distance to each airport and finding the minimum. Then, I compared the average probability of delay and average monthly flights for each pair to see if they were significantly different. If they were significantly different then the stakeholder should choose the airport that is less prone to delayed flights.\n",
        "\n",
        "Results\n",
        "\n",
        "I found that airports have a difference in the number of delayed flights. They have different average probability of delay and different average monthly flights.\n",
        "\n",
        "I found that the best performing region when taking into account these two factors is the west.\n",
        "\n",
        "Then I created a strategy that finds the closest neighboring airport and finds the airport with a lower probability of delay.\n"
      ],
      "metadata": {
        "id": "t-G02Fhudsdc"
      },
      "id": "t-G02Fhudsdc"
    },
    {
      "cell_type": "markdown",
      "source": [
        "### Analysis 2 - Carrier Analysis\n",
        "*By Patrick Schmid*\n",
        "\n",
        "Since my question was focused on comparing airlines on the basis of delays, I first set to work trying to find which variables had the highest correlation with the variable CARRIER_NAME and DEP_DEL_15, to see what heavily influnced the carriers and delays. I started by encoding CARRIER_NAME to numbers so I could create a heatmap to visualize the correlations present. I had expected to find a few strong correlations, and then would base my analysis on those variables. I was dissapointed to find however that there were very few strong relationships in the data.\n",
        "\n",
        "***Refocused Approach***\n",
        "\n",
        "In order to reapproach the problem, I decided to get a more comprehensive view of my variables. I printed out the total flights per airline as well as the total number of delays per airline, and used these values to calculate the percentage of flights with delays over 15 minutes per airline. In order to properly understand the difference in Airline's with respect to delays, I decided to create a new dataframe with average values of all other variables by airline.\n",
        "\n",
        "***New Dataframe***\n",
        "\n",
        "Once all the variables had been averaged and the new dataframe had been constructed, I began to make plots for each averaged variable by Airline to directly visually compare the airlines. I first started by making a barplot of all the airlines flight delays. From their, our team had highlighted United as our case study airline in our project, so I created this same plot with United highlighted. This is when I came up with my bounds approach. I looked at the barplot and chose an airline with worse delay percentages and better delay percentages that flew a similar number of flights as United. That way I could better analyze United against peer airlines. In doing so I selected Southwest as the upper bound and Delta as the lower bound.\n",
        "\n",
        "***Working with Bounds***\n",
        "\n",
        "Using this approach, I then set out to plot all the variables in the dataset with these key bounds highlighted. After plotting all the key varibles, I took a look at the plots and selected which variables showed the most interesting findings. I seperated the variables into two categories, operation and human resources variables. Of these, the most interesting trends I discovered were the trends in Average Flight Attendants per Passenger, Average Groundcrewmembers per Passenger and Flights per Month. Looking at summary statistics for each of these variables for United and the two bounds, I then compared the airlines and determined the best recommendation for United in regards to each variable\n",
        "\n",
        "***Results***\n",
        "\n",
        "Overall, I found United differed from the two bound airlines the most in Average Flight Attendants per Passenger, Average Groundcrewmembers per Passenger and Flights per Month. For both Flight Attendants and Groudcrewmembers, I found the United was employing far more employees per passanger than either of its bound airlines. Thus, they are employing more with no discernable effect on delay, showing that the increase in employment is not beneficial to either operation on the grounds of delays.\n",
        "\n",
        "For Flights per Month, I found that United is flying far fewer flights than its peers, again with no discernable change in delays\n"
      ],
      "metadata": {
        "id": "5Lb1RNKGzgPG"
      },
      "id": "5Lb1RNKGzgPG"
    },
    {
      "cell_type": "markdown",
      "source": [
        "### Analysis 3\n",
        "*By Corbin Diaz*"
      ],
      "metadata": {
        "id": "Dj2d_--Bzeu4"
      },
      "id": "Dj2d_--Bzeu4"
    },
    {
      "cell_type": "markdown",
      "source": [
        "### **Initial Analysis**\n",
        "\n",
        "First, a box plot of the number of seats across all flights was made to get an idea of the distribution of the number of seats. Now, whether or not a flight gets delayed is a binary categorical variable. In order to measure the average probability a certain plane size gets delayed, the data was grouped by the number of seats. This allows us to calculate the proportion of flights with a specific number of seats that were delayed (this also reduces the number data points, since the flight data is grouped by number of seats). From this, we can plot the proportion of flights that are delayed against the number of seats, which creates a rough upward trend, indicating a flight is more likely to be delayed if the plane has more seats. However, there is still a lot of variability in the graph, especially for bigger plane sizes.\n",
        "\n",
        "### *Anticipated Problems*\n",
        "\n",
        "One worry was that the data set would be too large to run complicated calculations on, but since the data was limited and then further grouped most calculations ran very smoothly. Another anticiapted problem was that there would be too few points to make meaningful claims after the data was grouped. While there were few points in some visualizations, for most of them it does not largely affect the analysis, however it does add limitiations to whether trendlines on some graphs can be trusted.\n",
        "\n",
        "## **Understanding the Variability**\n",
        "\n",
        "Several methods were then used to get a better sense of the variability and if the trend seen in the scatterplot is reliable enough to follow.\n",
        "\n",
        "### *Initial Problem: Binning the Data*\n",
        "\n",
        "One method to remove the variability or \"noise\" in the scatterplot was to bin the data. This involved binning the number of seats variable into three equally sized categories indicating plane size (Small, Medium, Large). However, initially this was done by binning using the grouped data. This created very misleading results (ones that seemed to widely counteract the original scatterplot) that weighed larger plane sizes way more than smaller ones, despite larger plane sizes being used less as indicated by the box plot. This is because the grouped data does not account for how often each plane size is used. Planes with around 100 seats were weighed equally to planes with 300 seats, despite the first one being flown substaintially more.\n",
        "\n",
        "Therefore, the data was binned using the raw flight data to account for how often each plane size is used. These bin labels were then mapped onto the grouped data. Although it appears the bins are now not equally sized, they are equally sized according to the number of flights flown, which is more accurate. This created results that matched the original trend in the scatterplot better. Originally, 4 bin sizes were used, but this created two \"medium\" sizes that were mostly similar so it was found that using only 3 bins made it a lot clearer to see the underlining trend.\n",
        "\n",
        "### *Using the Binned Data*\n",
        "\n",
        "Separating the data into 3 distinct plane sizes and then comparing the distribution of proportion of delays with violin plots reveals that each size actually has a very similar average. However, the small plane size ranges to very low delay proportions while the opposite is true for larger plane sizes. Therefore this seems to show that each plane size will give roughy the same likelihood of delay, but a smaller likelihood is more possible with smaller plane sizes and vice versa for larger ones.\n",
        "\n",
        "### *Variation Across Carriers*\n",
        "\n",
        "Another way to observe the variability was to compare the data across carriers. This is because different carriers may have different boarding methods or seating layouts and therefore may handle the same plane size differently. This was done in two ways. One way was the see the distribution of the proportion of delays for each plane size, separated by bins, for each carrier. This revealed roughly the same trend as the the previous plots, but did reveal that some carriers can have widely different results in which smaller plane sizes could actually be worse.\n",
        "\n",
        "Another method that was tried was the measure the likelihood of delays based on the proportion of flights flown in a particular plane size. For example, if a specific carrier flights 75% of flights with a small plane, are they less likely to have delays than a carrier with only 25% of flights with a small plane? To do this, the data was grouped by carrier, and this process was done for small, medium, and large size planes. This also seemed to indicate the same general trend: using more smaller planes means less likelihood of delays, and vice versa for larger planes. However, these scatterplots still had a lot of variability with a few amount of points (since the data was groupe by carrier) so the visualization may not be as useful.\n",
        "\n",
        "### **Would The Number of Plane Sizes Matter?**\n",
        "\n",
        "One thing that was also initially attempted to solve the problem was observing the number of plane size options. It was noticed that some airlines, like Delta, was operating with over 20 different plane sizes, while some airlines used less than 5. To see if this had any effect, a simple scatterplot was made that graphed each carriers proportion of delayed flights against the number of plane sizes they were operating. However, the trend in the resulting scatterplot had a lot of variability with few data points, and when outlier plane size options were removed, the resulting scatterplot had no obvious trend. Therefore it was determined the number of plane sizes a carrier uses has very little effect on whether they are more likely to be delayed.\n",
        "\n",
        "## *Ending Results*\n",
        "\n",
        "The resulting data analysis indicated that while there seems to be a general trend that smaller planes are less likely to be delayed, this result depends on the specific carrier, and even then the resulting change in the proportion of delayed flights is likely to be minimal due to large amounts of variability. However, when one specifically looks at United, the data indicates that the plane size with the smallest proportion of delays is in fact smaller planes, and this is also the plane size that United flies the least. Therefore, one could suggest to United to fly more smaller planes to potentially see decreases in the number of flights delayed."
      ],
      "metadata": {
        "id": "f9kiJvDJzr59"
      },
      "id": "f9kiJvDJzr59"
    },
    {
      "cell_type": "markdown",
      "id": "863e3664",
      "metadata": {
        "id": "863e3664"
      },
      "source": [
        "### Analysis 4 - weather analysis\n",
        "*By Nour Taqatqa*"
      ]
    },
    {
      "cell_type": "markdown",
      "source": [
        "***Summary of process:***\n",
        "\n",
        "The EDA question in hand is concerned with whether the probability of delay for United Airlines can be explained by the weather. For the weather, there are 5 variables present in the dataset. 3 were chosen to be the most relevant (describing how much snow there was on a certain day isn't as important as specifying how much snow there is on the ground. The latter is considered a result of the former. Therfore, the former was dropped.The other variable that was dropped was the temperature - if there is no snow, wind or rain, it doesn't matter what the temperature is.) Therfore, the 3 variables that were considered for analysis summarize the needed representatives of the weather.\n",
        "\n",
        "First, it's important to know where United stands when it comes to its probability of delay, and then, it's important to compare that to its weather variables. A graph was done to outline the difference in proportions and United placed 6th in its likelihood for delays.\n",
        "\n",
        "As a next step, a weather indicator was established to make a succent quick visualization for which airline flew in the worst weather - a higher weather indicator means that an airline flies more on days with more rain, more snow on ground and stronger wind. If that is highly correlated with the proportion of delays for an airline for the year, then we could excuse United for delays since a lot of the weather factors are unpredictable.  \n",
        "\n",
        "As a last step, a time-series analysis was done to look at the top couple of airlines in terms of delays and the weather indicator, and saw how it might differ across the year and for different airlinse. That was done for each weather variable indivisualy.\n",
        "\n",
        "Correlation was done as well to give a more firm conclusion.\n",
        "\n",
        "***Evaluation:***\n",
        "\n",
        "This way of answering the question made most sense becuase conclusions need to be made in context. To know what recommendation to give United, it's important to know how United ranks with other airlines. If it had a low probability of delay but had a high weather indicator, then we would say United is doing quite well with handling weather. A time series analysis also makes a lot of sense when it comes to weather, since weather varies throughout the year, and it's informative to see how different airlines fly in different frequencies throughout different months.\n",
        "\n",
        "***Problems faced:***\n",
        "Storing the variables I made along the way to create a table to make a plot or to use the variables to create the tim-seires analysis required that I store snow, rain and wind as a tuple to the same airline for a single month and then have a lot of list of lists and dictionary of lists. In other words, it's having the code written be sustainable not only for a single sub-question, but for the entire EDA analysis. Ineffecienies are probably present due to having a lot of for loops.\n",
        "\n",
        "***Initial ideas:***\n",
        "The first plot I thought of wasn't a time-series plot as I tried to vizualize all 12 months and airlines in sub-plots. That wasn't going to be informative."
      ],
      "metadata": {
        "id": "JP0J3cRt-Y5z"
      },
      "id": "JP0J3cRt-Y5z"
    },
    {
      "cell_type": "markdown",
      "id": "f6026cb7",
      "metadata": {
        "id": "f6026cb7"
      },
      "source": [
        "## Other sections\n",
        "\n",
        "You are welcome to introduce additional sections or subsections, if required, to address your questions in detail. For example, you may briefly discuss potential future work that the research community could focus on to make further progress in the direction of your project's topic."
      ]
    },
    {
      "cell_type": "markdown",
      "id": "62a185cb",
      "metadata": {
        "id": "62a185cb"
      },
      "source": [
        "## Conclusions\n",
        "\n",
        "Do the individual analysis connect with each other to answer a bigger question? If yes, explain."
      ]
    },
    {
      "cell_type": "markdown",
      "id": "57e41b2a",
      "metadata": {
        "id": "57e41b2a"
      },
      "source": [
        "## Recommendations to stakeholder(s)\n",
        "What are the action items for the stakeholder(s) based on your analysis? Be as precise as possible. The stakeholder(s) are depending on you to come up with practically implementable recommendations, instead of having to think for themselves.\n",
        "\n",
        "Do the stakeholder(s) need to be aware about some limitations of your analysis? Can your analysis be directly used by the stakeholder(s) to obtain the expected benefit / make decisions, or do they need to do some further analysis based on their own, or do they need to repeat your analysis on a more recent data for the results to be applicable?"
      ]
    },
    {
      "cell_type": "markdown",
      "source": [
        "EDA 1: Airport Selection\n",
        "Airport Selection is important in lowering the number of delayed flights.\n",
        "1) Stakeholders can expand in regions that are performing the best in regards to delayed flights. Therefore, they should expand in the west.\n",
        "2) If there are flights from one of the extremely busy airports, it is better to select smaller airports, because large airports have been seen to be inefficient in handling delays.\n",
        "3) Stakeholders can find the nearest neighboring airports and see if they are more efficient in handling delays, funnel flights from those airports to the more efficient ones.\n",
        "\n",
        "Some limitations are the relations with the airports. Is it possible to increase prescence in an airport? Are flights going to the same destination? Do customers prefer certain airports? My advice is to start small and see if the strategy is feasable."
      ],
      "metadata": {
        "id": "wGQxrrwzgccU"
      },
      "id": "wGQxrrwzgccU"
    },
    {
      "cell_type": "markdown",
      "source": [
        "***EDA 2: Carrier Analysis***\n",
        "\n",
        "1) United should reduce its workforce in the Flight Attendant and Ground Crew positions. In both roles, United is employing far more employees per passenger than its peers with no discernable effect on ground crew. Thus, they're incurring higher operational costs with no benefit to delays\n",
        "\n",
        "2) United should increase the number of flights it takes per month. United is taking far fewer flights than its peers per month, with far more passengers per flight with no discernable effect on delay. Jamming this many people per flight is likely a measure used for effiency, yet it clearly has no effect.\n",
        "\n",
        "***Limitations***\n",
        "\n",
        "All of this analysis was performed in a vacuum with delay the only considered variable. There may be more variables that make up for these discrepancies that were not in the dataset and thus not considered."
      ],
      "metadata": {
        "id": "rNGRJ9C0iUeN"
      },
      "id": "rNGRJ9C0iUeN"
    },
    {
      "cell_type": "markdown",
      "source": [
        "**EDA 3: Plane Size**\n",
        "\n",
        "\n",
        "*Observations:*\n",
        "\n",
        "1) The number of plane sizes a carrier operates has little to no effect on the likihood of being delayed. Instead, the actual size of the plane has more of an impact.\n",
        "\n",
        "2) In general, smaller planes can lead to a smaller proportion of delayed flights and vice versa for larger planes. However, each plane size gives roughly the same average proportion of delayed flights. Whether one size has less delays than another varies upon the specific carrier.\n",
        "\n",
        "3) It is suggested that each carrier should analyze how each plane size effect the likelihood of being delayed individually. In the case of United, the observed trend matches that of the general trend. That is, smaller planes lead to a smaller proportion of delays.\n",
        "\n",
        "*Actions for United Airlines:*\n",
        "\n",
        "Since smaller planes are flown the least, increase the proportion of flights flown with small sized planes (less than 124 seats).\n",
        "\n",
        "*Limitations:*\n",
        "\n",
        "Since there is still a lot of variability in the data, and since each plane size still has roughly the same average proportion of flights delayed, the change in the number of flights delayed could be minimal. The analysis also does not account for long term effects (such as if flying smaller planes leads to more flights flown in total, leading to more congestion and therefore more delays.)"
      ],
      "metadata": {
        "id": "HHzb6s5gR77C"
      },
      "id": "HHzb6s5gR77C"
    },
    {
      "cell_type": "markdown",
      "source": [
        "***EDA 4: Weather analysis***\n",
        "\n",
        "1) United could consider the cost-benifit analysis of flying more frequently. The weather indicator being higher for JetBlue while JetBlue's number of delays has a smaller correlation with the weather variables shows that United could take advantage of more flights during bad weather. Whether that is by increasing the number of all flights or increasing the number of a certain type of flights (domestic vs international) is a further level of analysis.\n",
        "\n",
        "2) United can analyze why it's flying in higher wind speeds than other airlines. United could consult with its engineers to know whether a higher wind speed makes the aircraft more prone to damage and whether it increases or decreases the flight time. This isn't directly related to our delays analysis but is still part of our cost-minimization and profit maximization approach to answering the EDA queations.\n",
        "\n",
        "3) United can, with evidence that we provide, act on the fact that it's a top perfomer when it comes to delays. It can use our graphs to write public reports and use our numbers to create advertisment campaigns.\n",
        "\n",
        "4) This lower range of delays is to be maintained, so an analysis with the previous years could be made to see what factors of production are doing well and what has changed throughout the years. After can assure United with its weather handling schemes, we don't know whether it's the best performance United has ever put out there. An internal analysis is just as complementary to our external airline industry analysis.\n",
        "\n",
        "***Points for consideration:***\n",
        "\n",
        "The weather analysis done for this project was based on highly averaged data. The grouping of over 100 thousand flights might not give us insight on more detailed trends, which was already something that was lacking in the consistency of the results of the correlation coefficients. Therfore, monthly analysis and time of day analysis could be done for more detailed insights. Additionally, all the comparisons have been done with domestic airlines. There are many airlines in the world that can be performing better than all of the airlines flying in mainly in the US. Data for those airlines can be collected and investigated accordingly.  "
      ],
      "metadata": {
        "id": "ZHbB9dECFTfo"
      },
      "id": "ZHbB9dECFTfo"
    },
    {
      "cell_type": "markdown",
      "id": "00b1cafe",
      "metadata": {
        "id": "00b1cafe"
      },
      "source": [
        "## References {-}"
      ]
    },
    {
      "cell_type": "markdown",
      "id": "ebdb1aad",
      "metadata": {
        "id": "ebdb1aad"
      },
      "source": [
        "List and number all bibliographical references. When referenced in the text, enclose the citation number in square brackets, for example [1].\n",
        "\n",
        "[1] Authors. The frobnicatable foo filter, 2014. Face and Gesture submission ID 324. Supplied as additional material\n",
        "fg324.pdf. 3\n"
      ]
    },
    {
      "cell_type": "markdown",
      "id": "5831751c",
      "metadata": {
        "id": "5831751c"
      },
      "source": [
        "## Appendix {-}"
      ]
    },
    {
      "cell_type": "markdown",
      "id": "d13d374d",
      "metadata": {
        "id": "d13d374d"
      },
      "source": [
        "You may put additional stuff here as Appendix. You may refer to the Appendix in the main report to support your arguments. However, the appendix section is unlikely to be checked while grading, unless the grader deems it necessary."
      ]
    }
  ],
  "metadata": {
    "kernelspec": {
      "display_name": "Python 3 (ipykernel)",
      "language": "python",
      "name": "python3"
    },
    "language_info": {
      "codemirror_mode": {
        "name": "ipython",
        "version": 3
      },
      "file_extension": ".py",
      "mimetype": "text/x-python",
      "name": "python",
      "nbconvert_exporter": "python",
      "pygments_lexer": "ipython3",
      "version": "3.11.4"
    },
    "colab": {
      "provenance": []
    }
  },
  "nbformat": 4,
  "nbformat_minor": 5
}